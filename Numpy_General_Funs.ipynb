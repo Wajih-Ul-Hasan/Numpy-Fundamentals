{
 "cells": [
  {
   "cell_type": "markdown",
   "id": "8e1c3cdd",
   "metadata": {},
   "source": [
    "# Numpy General Functions"
   ]
  },
  {
   "cell_type": "code",
   "execution_count": 32,
   "id": "7adccaa7",
   "metadata": {},
   "outputs": [
    {
     "data": {
      "text/plain": [
       "array([[ 51,  21, 175,  29],\n",
       "       [ 44, 166, 206,  18],\n",
       "       [184, 249, 104, 175],\n",
       "       [250, 144,  42,   8]])"
      ]
     },
     "execution_count": 32,
     "metadata": {},
     "output_type": "execute_result"
    }
   ],
   "source": [
    "import numpy as np\n",
    "import random\n",
    "\n",
    "pixel = np.random.randint(1,255,size = (4,4))\n",
    "pixel"
   ]
  },
  {
   "cell_type": "code",
   "execution_count": 35,
   "id": "6d8d4120",
   "metadata": {},
   "outputs": [
    {
     "data": {
      "text/plain": [
       "array([529, 580, 527, 230])"
      ]
     },
     "execution_count": 35,
     "metadata": {},
     "output_type": "execute_result"
    }
   ],
   "source": [
    "pixel.sum(axis = 0)"
   ]
  },
  {
   "cell_type": "code",
   "execution_count": 37,
   "id": "88de2cf7",
   "metadata": {},
   "outputs": [
    {
     "name": "stdout",
     "output_type": "stream",
     "text": [
      "1\n"
     ]
    }
   ],
   "source": [
    "Min = array.min()\n",
    "print(Min)"
   ]
  },
  {
   "cell_type": "code",
   "execution_count": 41,
   "id": "2b04cd6b",
   "metadata": {},
   "outputs": [
    {
     "name": "stdout",
     "output_type": "stream",
     "text": [
      "250\n"
     ]
    }
   ],
   "source": [
    "Max = pixel.max()\n",
    "print(Max)"
   ]
  },
  {
   "cell_type": "code",
   "execution_count": 42,
   "id": "c6a85d49",
   "metadata": {},
   "outputs": [
    {
     "data": {
      "text/plain": [
       "array([[ 21,  29,  51, 175],\n",
       "       [ 18,  44, 166, 206],\n",
       "       [104, 175, 184, 249],\n",
       "       [  8,  42, 144, 250]])"
      ]
     },
     "execution_count": 42,
     "metadata": {},
     "output_type": "execute_result"
    }
   ],
   "source": [
    "pixel.sort()\n",
    "pixel"
   ]
  },
  {
   "cell_type": "code",
   "execution_count": 47,
   "id": "122deee7",
   "metadata": {},
   "outputs": [
    {
     "data": {
      "text/plain": [
       "array([ 21,  29,  51, 175,  18,  44, 166, 206, 104, 175, 184, 249,   8,\n",
       "        42, 144, 250])"
      ]
     },
     "execution_count": 47,
     "metadata": {},
     "output_type": "execute_result"
    }
   ],
   "source": [
    "np.hstack(pixel)"
   ]
  },
  {
   "cell_type": "code",
   "execution_count": 48,
   "id": "df7ffb5f",
   "metadata": {},
   "outputs": [
    {
     "data": {
      "text/plain": [
       "array([[ 21,  29,  51, 175],\n",
       "       [ 18,  44, 166, 206],\n",
       "       [104, 175, 184, 249],\n",
       "       [  8,  42, 144, 250]])"
      ]
     },
     "execution_count": 48,
     "metadata": {},
     "output_type": "execute_result"
    }
   ],
   "source": [
    "np.vstack(pixel)"
   ]
  },
  {
   "cell_type": "code",
   "execution_count": 49,
   "id": "1d66dbfa",
   "metadata": {},
   "outputs": [
    {
     "data": {
      "text/plain": [
       "1866"
      ]
     },
     "execution_count": 49,
     "metadata": {},
     "output_type": "execute_result"
    }
   ],
   "source": [
    "pixel.sum()"
   ]
  },
  {
   "cell_type": "code",
   "execution_count": 52,
   "id": "344014eb",
   "metadata": {},
   "outputs": [
    {
     "data": {
      "text/plain": [
       "array([[ 21,  18, 104,   8],\n",
       "       [ 29,  44, 175,  42],\n",
       "       [ 51, 166, 184, 144],\n",
       "       [175, 206, 249, 250]])"
      ]
     },
     "execution_count": 52,
     "metadata": {},
     "output_type": "execute_result"
    }
   ],
   "source": [
    "pixel.T"
   ]
  },
  {
   "cell_type": "code",
   "execution_count": 53,
   "id": "d9a5f411",
   "metadata": {},
   "outputs": [
    {
     "data": {
      "text/plain": [
       "array([[ 21,  18, 104,   8],\n",
       "       [ 29,  44, 175,  42],\n",
       "       [ 51, 166, 184, 144],\n",
       "       [175, 206, 249, 250]])"
      ]
     },
     "execution_count": 53,
     "metadata": {},
     "output_type": "execute_result"
    }
   ],
   "source": [
    "pixel.transpose()"
   ]
  },
  {
   "cell_type": "code",
   "execution_count": 54,
   "id": "50aa4dd5",
   "metadata": {},
   "outputs": [
    {
     "data": {
      "text/plain": [
       "array([[250, 144,  42,   8],\n",
       "       [249, 184, 175, 104],\n",
       "       [206, 166,  44,  18],\n",
       "       [175,  51,  29,  21]])"
      ]
     },
     "execution_count": 54,
     "metadata": {},
     "output_type": "execute_result"
    }
   ],
   "source": [
    "np.flip(pixel)"
   ]
  },
  {
   "cell_type": "code",
   "execution_count": 55,
   "id": "d23d7c91",
   "metadata": {},
   "outputs": [
    {
     "data": {
      "text/plain": [
       "array([[  8,  42, 144, 250],\n",
       "       [104, 175, 184, 249],\n",
       "       [ 18,  44, 166, 206],\n",
       "       [ 21,  29,  51, 175]])"
      ]
     },
     "execution_count": 55,
     "metadata": {},
     "output_type": "execute_result"
    }
   ],
   "source": [
    "np.flip(pixel,axis = 0)"
   ]
  },
  {
   "cell_type": "code",
   "execution_count": null,
   "id": "c63949fd",
   "metadata": {},
   "outputs": [],
   "source": []
  }
 ],
 "metadata": {
  "kernelspec": {
   "display_name": "Python 3 (ipykernel)",
   "language": "python",
   "name": "python3"
  },
  "language_info": {
   "codemirror_mode": {
    "name": "ipython",
    "version": 3
   },
   "file_extension": ".py",
   "mimetype": "text/x-python",
   "name": "python",
   "nbconvert_exporter": "python",
   "pygments_lexer": "ipython3",
   "version": "3.9.7"
  }
 },
 "nbformat": 4,
 "nbformat_minor": 5
}
